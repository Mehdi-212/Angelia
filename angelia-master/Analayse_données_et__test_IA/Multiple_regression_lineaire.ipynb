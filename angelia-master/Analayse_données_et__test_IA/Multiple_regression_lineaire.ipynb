{
 "cells": [
  {
   "cell_type": "markdown",
   "id": "171a09d1",
   "metadata": {},
   "source": [
    "## Test Algorithme : régression linéaire multiple"
   ]
  },
  {
   "cell_type": "code",
   "execution_count": 3,
   "id": "d73ca1cd",
   "metadata": {},
   "outputs": [],
   "source": [
    "#Importing the libraries\n",
    "import pandas as pd\n",
    "import numpy as np\n",
    "import matplotlib.pyplot as plt\n",
    "import seaborn as sns \n",
    "from sklearn.model_selection import train_test_split\n",
    "from sklearn.linear_model import LinearRegression "
   ]
  },
  {
   "cell_type": "code",
   "execution_count": 4,
   "id": "e6dcd2f5",
   "metadata": {},
   "outputs": [],
   "source": [
    "#Reading the dataset\n",
    "dataset = pd.read_csv(\"chansons.csv\")"
   ]
  },
  {
   "cell_type": "code",
   "execution_count": 5,
   "id": "b1bec239",
   "metadata": {},
   "outputs": [
    {
     "data": {
      "text/html": [
       "<div>\n",
       "<style scoped>\n",
       "    .dataframe tbody tr th:only-of-type {\n",
       "        vertical-align: middle;\n",
       "    }\n",
       "\n",
       "    .dataframe tbody tr th {\n",
       "        vertical-align: top;\n",
       "    }\n",
       "\n",
       "    .dataframe thead th {\n",
       "        text-align: right;\n",
       "    }\n",
       "</style>\n",
       "<table border=\"1\" class=\"dataframe\">\n",
       "  <thead>\n",
       "    <tr style=\"text-align: right;\">\n",
       "      <th></th>\n",
       "      <th>id</th>\n",
       "      <th>name</th>\n",
       "      <th>popularity</th>\n",
       "      <th>duration_ms</th>\n",
       "      <th>explicit</th>\n",
       "      <th>artists</th>\n",
       "      <th>id_artists</th>\n",
       "      <th>release_date</th>\n",
       "      <th>danceability</th>\n",
       "      <th>energy</th>\n",
       "      <th>key</th>\n",
       "      <th>loudness</th>\n",
       "      <th>mode</th>\n",
       "      <th>speechiness</th>\n",
       "      <th>acousticness</th>\n",
       "      <th>instrumentalness</th>\n",
       "      <th>liveness</th>\n",
       "      <th>valence</th>\n",
       "      <th>tempo</th>\n",
       "      <th>time_signature</th>\n",
       "    </tr>\n",
       "  </thead>\n",
       "  <tbody>\n",
       "    <tr>\n",
       "      <th>0</th>\n",
       "      <td>35iwgR4jXetI318WEWsa1Q</td>\n",
       "      <td>Carve</td>\n",
       "      <td>6</td>\n",
       "      <td>126903</td>\n",
       "      <td>0</td>\n",
       "      <td>['Uli']</td>\n",
       "      <td>['45tIt06XoI0Iio4LBEVpls']</td>\n",
       "      <td>1922-02-22</td>\n",
       "      <td>0.645</td>\n",
       "      <td>0.4450</td>\n",
       "      <td>0</td>\n",
       "      <td>-13.338</td>\n",
       "      <td>1</td>\n",
       "      <td>0.4510</td>\n",
       "      <td>0.674</td>\n",
       "      <td>0.7440</td>\n",
       "      <td>0.151</td>\n",
       "      <td>0.127</td>\n",
       "      <td>104.851</td>\n",
       "      <td>3</td>\n",
       "    </tr>\n",
       "    <tr>\n",
       "      <th>1</th>\n",
       "      <td>021ht4sdgPcrDgSk7JTbKY</td>\n",
       "      <td>Capítulo 2.16 - Banquero Anarquista</td>\n",
       "      <td>0</td>\n",
       "      <td>98200</td>\n",
       "      <td>0</td>\n",
       "      <td>['Fernando Pessoa']</td>\n",
       "      <td>['14jtPCOoNZwquk5wd9DxrY']</td>\n",
       "      <td>1922-06-01</td>\n",
       "      <td>0.695</td>\n",
       "      <td>0.2630</td>\n",
       "      <td>0</td>\n",
       "      <td>-22.136</td>\n",
       "      <td>1</td>\n",
       "      <td>0.9570</td>\n",
       "      <td>0.797</td>\n",
       "      <td>0.0000</td>\n",
       "      <td>0.148</td>\n",
       "      <td>0.655</td>\n",
       "      <td>102.009</td>\n",
       "      <td>1</td>\n",
       "    </tr>\n",
       "    <tr>\n",
       "      <th>2</th>\n",
       "      <td>07A5yehtSnoedViJAZkNnc</td>\n",
       "      <td>Vivo para Quererte - Remasterizado</td>\n",
       "      <td>0</td>\n",
       "      <td>181640</td>\n",
       "      <td>0</td>\n",
       "      <td>['Ignacio Corsini']</td>\n",
       "      <td>['5LiOoJbxVSAMkBS2fUm3X2']</td>\n",
       "      <td>1922-03-21</td>\n",
       "      <td>0.434</td>\n",
       "      <td>0.1770</td>\n",
       "      <td>1</td>\n",
       "      <td>-21.180</td>\n",
       "      <td>1</td>\n",
       "      <td>0.0512</td>\n",
       "      <td>0.994</td>\n",
       "      <td>0.0218</td>\n",
       "      <td>0.212</td>\n",
       "      <td>0.457</td>\n",
       "      <td>130.418</td>\n",
       "      <td>5</td>\n",
       "    </tr>\n",
       "    <tr>\n",
       "      <th>3</th>\n",
       "      <td>08FmqUhxtyLTn6pAh6bk45</td>\n",
       "      <td>El Prisionero - Remasterizado</td>\n",
       "      <td>0</td>\n",
       "      <td>176907</td>\n",
       "      <td>0</td>\n",
       "      <td>['Ignacio Corsini']</td>\n",
       "      <td>['5LiOoJbxVSAMkBS2fUm3X2']</td>\n",
       "      <td>1922-03-21</td>\n",
       "      <td>0.321</td>\n",
       "      <td>0.0946</td>\n",
       "      <td>7</td>\n",
       "      <td>-27.961</td>\n",
       "      <td>1</td>\n",
       "      <td>0.0504</td>\n",
       "      <td>0.995</td>\n",
       "      <td>0.9180</td>\n",
       "      <td>0.104</td>\n",
       "      <td>0.397</td>\n",
       "      <td>169.980</td>\n",
       "      <td>3</td>\n",
       "    </tr>\n",
       "    <tr>\n",
       "      <th>4</th>\n",
       "      <td>08y9GfoqCWfOGsKdwojr5e</td>\n",
       "      <td>Lady of the Evening</td>\n",
       "      <td>0</td>\n",
       "      <td>163080</td>\n",
       "      <td>0</td>\n",
       "      <td>['Dick Haymes']</td>\n",
       "      <td>['3BiJGZsyX9sJchTqcSA7Su']</td>\n",
       "      <td>1922</td>\n",
       "      <td>0.402</td>\n",
       "      <td>0.1580</td>\n",
       "      <td>3</td>\n",
       "      <td>-16.900</td>\n",
       "      <td>0</td>\n",
       "      <td>0.0390</td>\n",
       "      <td>0.989</td>\n",
       "      <td>0.1300</td>\n",
       "      <td>0.311</td>\n",
       "      <td>0.196</td>\n",
       "      <td>103.220</td>\n",
       "      <td>4</td>\n",
       "    </tr>\n",
       "  </tbody>\n",
       "</table>\n",
       "</div>"
      ],
      "text/plain": [
       "                       id                                 name  popularity  \\\n",
       "0  35iwgR4jXetI318WEWsa1Q                                Carve           6   \n",
       "1  021ht4sdgPcrDgSk7JTbKY  Capítulo 2.16 - Banquero Anarquista           0   \n",
       "2  07A5yehtSnoedViJAZkNnc   Vivo para Quererte - Remasterizado           0   \n",
       "3  08FmqUhxtyLTn6pAh6bk45        El Prisionero - Remasterizado           0   \n",
       "4  08y9GfoqCWfOGsKdwojr5e                  Lady of the Evening           0   \n",
       "\n",
       "   duration_ms  explicit              artists                  id_artists  \\\n",
       "0       126903         0              ['Uli']  ['45tIt06XoI0Iio4LBEVpls']   \n",
       "1        98200         0  ['Fernando Pessoa']  ['14jtPCOoNZwquk5wd9DxrY']   \n",
       "2       181640         0  ['Ignacio Corsini']  ['5LiOoJbxVSAMkBS2fUm3X2']   \n",
       "3       176907         0  ['Ignacio Corsini']  ['5LiOoJbxVSAMkBS2fUm3X2']   \n",
       "4       163080         0      ['Dick Haymes']  ['3BiJGZsyX9sJchTqcSA7Su']   \n",
       "\n",
       "  release_date  danceability  energy  key  loudness  mode  speechiness  \\\n",
       "0   1922-02-22         0.645  0.4450    0   -13.338     1       0.4510   \n",
       "1   1922-06-01         0.695  0.2630    0   -22.136     1       0.9570   \n",
       "2   1922-03-21         0.434  0.1770    1   -21.180     1       0.0512   \n",
       "3   1922-03-21         0.321  0.0946    7   -27.961     1       0.0504   \n",
       "4         1922         0.402  0.1580    3   -16.900     0       0.0390   \n",
       "\n",
       "   acousticness  instrumentalness  liveness  valence    tempo  time_signature  \n",
       "0         0.674            0.7440     0.151    0.127  104.851               3  \n",
       "1         0.797            0.0000     0.148    0.655  102.009               1  \n",
       "2         0.994            0.0218     0.212    0.457  130.418               5  \n",
       "3         0.995            0.9180     0.104    0.397  169.980               3  \n",
       "4         0.989            0.1300     0.311    0.196  103.220               4  "
      ]
     },
     "execution_count": 5,
     "metadata": {},
     "output_type": "execute_result"
    }
   ],
   "source": [
    "dataset.head()"
   ]
  },
  {
   "cell_type": "code",
   "execution_count": 6,
   "id": "4214e866",
   "metadata": {},
   "outputs": [],
   "source": [
    "#Setting the value for X and Y\n",
    "x = dataset[['loudness', 'energy','instrumentalness','danceability','acousticness','valence']]\n",
    "y = dataset['popularity']"
   ]
  },
  {
   "cell_type": "code",
   "execution_count": 7,
   "id": "0913de8b",
   "metadata": {},
   "outputs": [],
   "source": [
    "#Splitting the dataset\n",
    "x_test, x_train, y_test, y_train = train_test_split(x, y, test_size = 0.3, random_state = 100)"
   ]
  },
  {
   "cell_type": "code",
   "execution_count": 8,
   "id": "83156697",
   "metadata": {},
   "outputs": [
    {
     "data": {
      "text/plain": [
       "LinearRegression()"
      ]
     },
     "execution_count": 8,
     "metadata": {},
     "output_type": "execute_result"
    }
   ],
   "source": [
    "#Fitting the Multiple Linear Regression model\n",
    "mlr = LinearRegression()  \n",
    "mlr.fit(x_train, y_train)"
   ]
  },
  {
   "cell_type": "code",
   "execution_count": 9,
   "id": "a343e830",
   "metadata": {},
   "outputs": [
    {
     "name": "stdout",
     "output_type": "stream",
     "text": [
      "Intercept:  37.94910416194652\n",
      "Coefficients:\n"
     ]
    },
    {
     "data": {
      "text/plain": [
       "[('loudness', 0.5784098122331378),\n",
       " ('energy', 0.6475274001570814),\n",
       " ('instrumentalness', -9.019891242311397),\n",
       " ('danceability', 17.432070111037294),\n",
       " ('acousticness', -13.23299257943448),\n",
       " ('valence', -13.876658092025531)]"
      ]
     },
     "execution_count": 9,
     "metadata": {},
     "output_type": "execute_result"
    }
   ],
   "source": [
    "#Intercept and Coefficient\n",
    "print(\"Intercept: \", mlr.intercept_)\n",
    "print(\"Coefficients:\")\n",
    "list(zip(x, mlr.coef_))"
   ]
  },
  {
   "cell_type": "code",
   "execution_count": 10,
   "id": "d86959f3",
   "metadata": {},
   "outputs": [
    {
     "name": "stdout",
     "output_type": "stream",
     "text": [
      "Prediction for test set: [17.12381052 23.55287669 37.26723797 ... 31.26629813 28.85201432\n",
      " 39.92041473]\n"
     ]
    }
   ],
   "source": [
    "#Prediction of test set\n",
    "y_pred_mlr= mlr.predict(x_test)\n",
    "\n",
    "#Predicted values\n",
    "print(\"Prediction for test set: {}\".format(y_pred_mlr))"
   ]
  },
  {
   "cell_type": "code",
   "execution_count": 11,
   "id": "d5d05fa6",
   "metadata": {},
   "outputs": [
    {
     "data": {
      "text/html": [
       "<div>\n",
       "<style scoped>\n",
       "    .dataframe tbody tr th:only-of-type {\n",
       "        vertical-align: middle;\n",
       "    }\n",
       "\n",
       "    .dataframe tbody tr th {\n",
       "        vertical-align: top;\n",
       "    }\n",
       "\n",
       "    .dataframe thead th {\n",
       "        text-align: right;\n",
       "    }\n",
       "</style>\n",
       "<table border=\"1\" class=\"dataframe\">\n",
       "  <thead>\n",
       "    <tr style=\"text-align: right;\">\n",
       "      <th></th>\n",
       "      <th>Actual value</th>\n",
       "      <th>Predicted value</th>\n",
       "    </tr>\n",
       "  </thead>\n",
       "  <tbody>\n",
       "    <tr>\n",
       "      <th>161254</th>\n",
       "      <td>16</td>\n",
       "      <td>17.123811</td>\n",
       "    </tr>\n",
       "    <tr>\n",
       "      <th>146550</th>\n",
       "      <td>32</td>\n",
       "      <td>23.552877</td>\n",
       "    </tr>\n",
       "    <tr>\n",
       "      <th>545832</th>\n",
       "      <td>32</td>\n",
       "      <td>37.267238</td>\n",
       "    </tr>\n",
       "    <tr>\n",
       "      <th>206122</th>\n",
       "      <td>15</td>\n",
       "      <td>15.646462</td>\n",
       "    </tr>\n",
       "    <tr>\n",
       "      <th>241800</th>\n",
       "      <td>2</td>\n",
       "      <td>34.363875</td>\n",
       "    </tr>\n",
       "    <tr>\n",
       "      <th>...</th>\n",
       "      <td>...</td>\n",
       "      <td>...</td>\n",
       "    </tr>\n",
       "    <tr>\n",
       "      <th>344414</th>\n",
       "      <td>48</td>\n",
       "      <td>38.472525</td>\n",
       "    </tr>\n",
       "    <tr>\n",
       "      <th>212912</th>\n",
       "      <td>1</td>\n",
       "      <td>23.160420</td>\n",
       "    </tr>\n",
       "    <tr>\n",
       "      <th>65615</th>\n",
       "      <td>59</td>\n",
       "      <td>31.266298</td>\n",
       "    </tr>\n",
       "    <tr>\n",
       "      <th>210755</th>\n",
       "      <td>0</td>\n",
       "      <td>28.852014</td>\n",
       "    </tr>\n",
       "    <tr>\n",
       "      <th>56088</th>\n",
       "      <td>43</td>\n",
       "      <td>39.920415</td>\n",
       "    </tr>\n",
       "  </tbody>\n",
       "</table>\n",
       "<p>410670 rows × 2 columns</p>\n",
       "</div>"
      ],
      "text/plain": [
       "        Actual value  Predicted value\n",
       "161254            16        17.123811\n",
       "146550            32        23.552877\n",
       "545832            32        37.267238\n",
       "206122            15        15.646462\n",
       "241800             2        34.363875\n",
       "...              ...              ...\n",
       "344414            48        38.472525\n",
       "212912             1        23.160420\n",
       "65615             59        31.266298\n",
       "210755             0        28.852014\n",
       "56088             43        39.920415\n",
       "\n",
       "[410670 rows x 2 columns]"
      ]
     },
     "execution_count": 11,
     "metadata": {},
     "output_type": "execute_result"
    }
   ],
   "source": [
    "#Visualisation data real vs data predicted\n",
    "mlr_diff = pd.DataFrame({'Actual value': y_test, 'Predicted value': y_pred_mlr})"
   ]
  },
  {
   "cell_type": "code",
   "execution_count": 14,
   "id": "b16e1c3d",
   "metadata": {},
   "outputs": [
    {
     "name": "stdout",
     "output_type": "stream",
     "text": [
      "R squared: 0.21\n",
      "Mean Absolute Error: 13.2334650686475\n",
      "Mean Square Error: 267.6012757002036\n",
      "Root Mean Square Error: 16.358523029301992\n"
     ]
    }
   ],
   "source": [
    "#Model Evaluation\n",
    "from sklearn import metrics\n",
    "meanAbErr = metrics.mean_absolute_error(y_test, y_pred_mlr)\n",
    "meanSqErr = metrics.mean_squared_error(y_test, y_pred_mlr)\n",
    "rootMeanSqErr = np.sqrt(metrics.mean_squared_error(y_test, y_pred_mlr))\n",
    "print('R squared: {:.2f}'.format(mlr.score(x,y)))\n",
    "print('Mean Absolute Error:', meanAbErr)\n",
    "print('Mean Square Error:', meanSqErr)\n",
    "print('Root Mean Square Error:', rootMeanSqErr)"
   ]
  },
  {
   "cell_type": "code",
   "execution_count": null,
   "id": "a9b4fecb",
   "metadata": {},
   "outputs": [],
   "source": []
  },
  {
   "cell_type": "code",
   "execution_count": null,
   "id": "c1b1e984",
   "metadata": {},
   "outputs": [],
   "source": []
  }
 ],
 "metadata": {
  "kernelspec": {
   "display_name": "Python 3 (ipykernel)",
   "language": "python",
   "name": "python3"
  },
  "language_info": {
   "codemirror_mode": {
    "name": "ipython",
    "version": 3
   },
   "file_extension": ".py",
   "mimetype": "text/x-python",
   "name": "python",
   "nbconvert_exporter": "python",
   "pygments_lexer": "ipython3",
   "version": "3.9.12"
  }
 },
 "nbformat": 4,
 "nbformat_minor": 5
}
